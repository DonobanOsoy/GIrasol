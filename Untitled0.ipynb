{
  "nbformat": 4,
  "nbformat_minor": 0,
  "metadata": {
    "colab": {
      "provenance": [],
      "authorship_tag": "ABX9TyN0bi/pA/Aj4mpW5JLqArZA",
      "include_colab_link": true
    },
    "kernelspec": {
      "name": "python3",
      "display_name": "Python 3"
    },
    "language_info": {
      "name": "python"
    },
    "widgets": {
      "application/vnd.jupyter.widget-state+json": {
        "f2d8cd9ff5e6410db6e0960dfd911752": {
          "model_module": "@jupyter-widgets/base",
          "model_name": "DOMWidgetModel",
          "model_module_version": "1.2.0",
          "state": {
            "_dom_classes": [],
            "_model_module": "@jupyter-widgets/base",
            "_model_module_version": "1.2.0",
            "_model_name": "DOMWidgetModel",
            "_view_count": null,
            "_view_module": "nbextensions/mobilechelonianjs/turtlewidget",
            "_view_module_version": "",
            "_view_name": "TurtleView",
            "layout": "IPY_MODEL_0c16d7ea26c6440b94fd3a0450fe31de",
            "points": [
              {
                "p": 1,
                "lc": "black",
                "x": 200,
                "y": 200,
                "b": 0,
                "s": 1
              }
            ]
          }
        },
        "0c16d7ea26c6440b94fd3a0450fe31de": {
          "model_module": "@jupyter-widgets/base",
          "model_name": "LayoutModel",
          "model_module_version": "1.2.0",
          "state": {
            "_model_module": "@jupyter-widgets/base",
            "_model_module_version": "1.2.0",
            "_model_name": "LayoutModel",
            "_view_count": null,
            "_view_module": "@jupyter-widgets/base",
            "_view_module_version": "1.2.0",
            "_view_name": "LayoutView",
            "align_content": null,
            "align_items": null,
            "align_self": null,
            "border": null,
            "bottom": null,
            "display": null,
            "flex": null,
            "flex_flow": null,
            "grid_area": null,
            "grid_auto_columns": null,
            "grid_auto_flow": null,
            "grid_auto_rows": null,
            "grid_column": null,
            "grid_gap": null,
            "grid_row": null,
            "grid_template_areas": null,
            "grid_template_columns": null,
            "grid_template_rows": null,
            "height": null,
            "justify_content": null,
            "justify_items": null,
            "left": null,
            "margin": null,
            "max_height": null,
            "max_width": null,
            "min_height": null,
            "min_width": null,
            "object_fit": null,
            "object_position": null,
            "order": null,
            "overflow": null,
            "overflow_x": null,
            "overflow_y": null,
            "padding": null,
            "right": null,
            "top": null,
            "visibility": null,
            "width": null
          }
        }
      }
    }
  },
  "cells": [
    {
      "cell_type": "markdown",
      "metadata": {
        "id": "view-in-github",
        "colab_type": "text"
      },
      "source": [
        "<a href=\"https://colab.research.google.com/github/DonobanOsoy/GIrasol/blob/main/Untitled0.ipynb\" target=\"_parent\"><img src=\"https://colab.research.google.com/assets/colab-badge.svg\" alt=\"Open In Colab\"/></a>"
      ]
    },
    {
      "cell_type": "code",
      "execution_count": 13,
      "metadata": {
        "colab": {
          "base_uri": "https://localhost:8080/",
          "height": 332,
          "referenced_widgets": [
            "f2d8cd9ff5e6410db6e0960dfd911752",
            "0c16d7ea26c6440b94fd3a0450fe31de"
          ]
        },
        "id": "XjUWnJ68K7qr",
        "outputId": "08c965a1-b63e-4f73-99a3-98dc1b772885"
      },
      "outputs": [
        {
          "output_type": "display_data",
          "data": {
            "text/plain": [
              "Turtle()"
            ],
            "application/vnd.jupyter.widget-view+json": {
              "version_major": 2,
              "version_minor": 0,
              "model_id": "f2d8cd9ff5e6410db6e0960dfd911752"
            }
          },
          "metadata": {}
        },
        {
          "output_type": "error",
          "ename": "AttributeError",
          "evalue": "'Turtle' object has no attribute 'goto'",
          "traceback": [
            "\u001b[0;31m---------------------------------------------------------------------------\u001b[0m",
            "\u001b[0;31mAttributeError\u001b[0m                            Traceback (most recent call last)",
            "\u001b[0;32m<ipython-input-13-616917d5ba0e>\u001b[0m in \u001b[0;36m<cell line: 0>\u001b[0;34m()\u001b[0m\n\u001b[1;32m     94\u001b[0m \u001b[0;34m\u001b[0m\u001b[0m\n\u001b[1;32m     95\u001b[0m \u001b[0;31m# MAIN\u001b[0m\u001b[0;34m\u001b[0m\u001b[0;34m\u001b[0m\u001b[0m\n\u001b[0;32m---> 96\u001b[0;31m \u001b[0mdraw_stem_with_leaf\u001b[0m\u001b[0;34m(\u001b[0m\u001b[0;36m0\u001b[0m\u001b[0;34m,\u001b[0m \u001b[0;34m-\u001b[0m\u001b[0;36m50\u001b[0m\u001b[0;34m)\u001b[0m\u001b[0;34m\u001b[0m\u001b[0;34m\u001b[0m\u001b[0m\n\u001b[0m\u001b[1;32m     97\u001b[0m \u001b[0mdraw_flower\u001b[0m\u001b[0;34m(\u001b[0m\u001b[0;36m0\u001b[0m\u001b[0;34m,\u001b[0m \u001b[0;36m50\u001b[0m\u001b[0;34m)\u001b[0m\u001b[0;34m\u001b[0m\u001b[0;34m\u001b[0m\u001b[0m\n\u001b[1;32m     98\u001b[0m \u001b[0;34m\u001b[0m\u001b[0m\n",
            "\u001b[0;32m<ipython-input-13-616917d5ba0e>\u001b[0m in \u001b[0;36mdraw_stem_with_leaf\u001b[0;34m(x, y)\u001b[0m\n\u001b[1;32m     46\u001b[0m \u001b[0;32mdef\u001b[0m \u001b[0mdraw_stem_with_leaf\u001b[0m\u001b[0;34m(\u001b[0m\u001b[0mx\u001b[0m\u001b[0;34m,\u001b[0m \u001b[0my\u001b[0m\u001b[0;34m)\u001b[0m\u001b[0;34m:\u001b[0m\u001b[0;34m\u001b[0m\u001b[0;34m\u001b[0m\u001b[0m\n\u001b[1;32m     47\u001b[0m     \u001b[0mt\u001b[0m\u001b[0;34m.\u001b[0m\u001b[0mpenup\u001b[0m\u001b[0;34m(\u001b[0m\u001b[0;34m)\u001b[0m\u001b[0;34m\u001b[0m\u001b[0;34m\u001b[0m\u001b[0m\n\u001b[0;32m---> 48\u001b[0;31m     \u001b[0mt\u001b[0m\u001b[0;34m.\u001b[0m\u001b[0mgoto\u001b[0m\u001b[0;34m(\u001b[0m\u001b[0mx\u001b[0m\u001b[0;34m,\u001b[0m \u001b[0my\u001b[0m\u001b[0;34m)\u001b[0m\u001b[0;34m\u001b[0m\u001b[0;34m\u001b[0m\u001b[0m\n\u001b[0m\u001b[1;32m     49\u001b[0m     \u001b[0mt\u001b[0m\u001b[0;34m.\u001b[0m\u001b[0mpendown\u001b[0m\u001b[0;34m(\u001b[0m\u001b[0;34m)\u001b[0m\u001b[0;34m\u001b[0m\u001b[0;34m\u001b[0m\u001b[0m\n\u001b[1;32m     50\u001b[0m     \u001b[0mpos_leaf_y\u001b[0m \u001b[0;34m=\u001b[0m \u001b[0my\u001b[0m \u001b[0;34m-\u001b[0m \u001b[0;36m200\u001b[0m\u001b[0;34m\u001b[0m\u001b[0;34m\u001b[0m\u001b[0m\n",
            "\u001b[0;31mAttributeError\u001b[0m: 'Turtle' object has no attribute 'goto'"
          ]
        }
      ],
      "source": [
        "from mobilechelonian import Turtle\n",
        "import colorsys\n",
        "import math\n",
        "import random\n",
        "\n",
        "t = Turtle()\n",
        "t.speed(0.01)\n",
        "\n",
        "# Función para dibujar una flor\n",
        "def draw_flower(posx, posy):\n",
        "    t.penup()\n",
        "    t.goto(posx, posy)\n",
        "    t.pendown()\n",
        "    h = 0\n",
        "    for i in range(16):\n",
        "        for j in range(18):\n",
        "            c = colorsys.hsv_to_rgb(0.125, 1, 1)\n",
        "            t.color(c)\n",
        "            h += 0.005\n",
        "            t.rt(90)\n",
        "            t.circle(150 - j * 6, 90)\n",
        "            t.lt(90)\n",
        "            t.circle(150 - j * 6, 90)\n",
        "            t.rt(180)\n",
        "        t.circle(40, 24)\n",
        "\n",
        "    # Parte central de la flor\n",
        "    t.color(\"black\")\n",
        "    t.shape(\"turtle\")\n",
        "    t.fillcolor(\"brown\")\n",
        "    phi = 137.508 * (math.pi / 180.0)\n",
        "    for i in range(200):\n",
        "        r = 4 * math.sqrt(i)\n",
        "        theta = i * phi\n",
        "        x = r * math.cos(theta)\n",
        "        y = r * math.sin(theta)\n",
        "        posx1 = posx + x\n",
        "        posy1 = posy + y + 40\n",
        "        t.penup()\n",
        "        t.goto(posx1, posy1)\n",
        "        t.setheading(i * 137.508)\n",
        "        t.pendown()\n",
        "        t.stamp()\n",
        "\n",
        "# Función para dibujar el tallo con una hoja\n",
        "def draw_stem_with_leaf(x, y):\n",
        "    t.penup()\n",
        "    t.goto(x, y)\n",
        "    t.pendown()\n",
        "    pos_leaf_y = y - 200\n",
        "\n",
        "    # Dibuja el tallo recto y más grande\n",
        "    c = colorsys.hsv_to_rgb(0.29, 1, 0.40)\n",
        "    t.color(c)\n",
        "    t.pensize(12)\n",
        "    t.setheading(270)\n",
        "    t.fd(200)\n",
        "    # Dibuja el tallo curvo\n",
        "    t.setheading(90)\n",
        "    t.circle(100, -70)\n",
        "\n",
        "    # Dibuja la hoja más grande\n",
        "    t.penup()\n",
        "    t.goto(x, pos_leaf_y)\n",
        "    t.pendown()\n",
        "    t.pensize(2)\n",
        "    t.begin_fill()\n",
        "    t.setheading(135)\n",
        "    t.circle(50, 90)\n",
        "    t.setheading(45)\n",
        "    t.circle(50, 90)\n",
        "    t.end_fill()\n",
        "\n",
        "    # Restaura el color y el grosor del lápiz\n",
        "    t.penup()\n",
        "    t.pensize(1)\n",
        "    t.color(\"black\")\n",
        "\n",
        "# Función para generar estrellitas de forma aleatoria\n",
        "def draw_random_stars(amount):\n",
        "    for _ in range(amount):\n",
        "        t.penup()\n",
        "        x = random.randint(-400, 400)\n",
        "        y = random.randint(-400, 400)\n",
        "        t.goto(x, y)\n",
        "        t.pendown()\n",
        "        star_color = colorsys.hsv_to_rgb(random.random(), 1, 1)\n",
        "        t.color(\"white\")\n",
        "        t.begin_fill()\n",
        "        for _ in range(5):\n",
        "            t.forward(11)\n",
        "            t.right(144)\n",
        "        t.end_fill()\n",
        "\n",
        "# MAIN\n",
        "draw_stem_with_leaf(0, -50)\n",
        "draw_flower(0, 50)\n",
        "\n",
        "# Escribir el mensaje\n",
        "t.hideturtle()\n",
        "t.penup()\n",
        "t.goto(0, 350)\n",
        "t.pendown()\n",
        "t.color(\"white\")\n",
        "t.write(\"Para la niña más bonita\", align=\"center\", font=(\"Arial\", 11, \"normal\"))\n",
        "t.penup()\n",
        "t.goto(0, -300)\n",
        "t.pendown()\n",
        "t.write(\"Mi loquita <3\", align=\"center\", font=(\"Arial\", 11, \"normal\"))\n",
        "\n",
        "draw_random_stars(50)\n",
        "t.hideturtle()\n"
      ]
    }
  ]
}